{
 "cells": [
  {
   "attachments": {},
   "cell_type": "markdown",
   "metadata": {},
   "source": [
    "# Simulations with Noise and Errors"
   ]
  },
  {
   "attachments": {},
   "cell_type": "markdown",
   "id": "b7d167fe",
   "metadata": {},
   "source": [
    "## Introduction\n",
    "This notebook is the first in a series of tutorials about using `Pulser` to simulate pulse sequences with noise and errors. These are an unavoidable part of a real quantum system, and a good simulation of a pulse sequence should be able to reproduce them accurately. A detailed explanation of these phenomena can be found in the following [reference](https://arxiv.org/abs/1802.10424).\n",
    "\n",
    "Currently, `Pulser` includes _noises_ for the laser pulses and _errors_ for the state preparation and measurement stages:\n",
    "\n",
    "### 1. SPAM (_State Preparation And Measurement_) errors:\n",
    "\n",
    "- **State Preparation errors**: The initial state preparation can fail to trap all the atoms in the ground state $\\ket{g}$. We model this with a probability $\\eta$ of _not_ having a given atom during the processing.\n",
    "- **Measurement errors**: In addition, the probabilities $\\epsilon, \\epsilon '$ are linked to detection errors. The first one is the probability of detecting an atom in the ground state $\\Ket{g}$ as if it were in the excited state $\\Ket{r}$ (\"false positives\"), and the second one is the probability of detecting an atom in the excited state $\\Ket{r}$ as if it were in the ground state $\\Ket{g}$ (\"false negatives\").\n",
    "\n",
    "### 2. Laser noises:\n",
    "The lasers themselves are also susceptible to fluctuations, as well as their effectiveness in producing the desired transitions in the atomic levels addressed:\n",
    "\n",
    "- **Doppler damping**: The atoms in the register are cooled to a temperature $T \\sim 50\\mu K$, which is low but still non-zero. Therefore, the laser frequency they observe is shifted by Doppler shifting due to thermal motion. This corresponds to a shift in the detuning frequency of the laser, and leads to a damping in the Rydberg population.\n",
    "- **Waist of the laser**: For global pulses, the laser amplitude has a Gaussian profile and atoms at the border of the waist feel a slightly lower amplitude than those at the focus.\n",
    "- **Amplitude fluctuations**: Fluctuations in the laser amplitude from pulse to pulse. \n",
    "\n",
    "### 3. Effective noise channels:\n",
    "\n",
    "More generally, we can include effective noise channels in our simulation. These can represent the aggregate of different noise sources, as well as an interaction with an environment. To include these in our simulations, we use the Lindblad master equation, an evolution equation for the _density matrix_ $\\rho$ of the system. Some introductory lecture notes on the topic can be found [here](http://theory.caltech.edu/~preskill/ph219/chap3_15.pdf). `Pulser` includes the following noise channels:\n",
    "\n",
    "- **Dephasing channel**: Implements a decay in the _coherence_ or _interference_ terms (the off-diagonal terms in $\\rho$). It applies random $z$-rotations on each qubit according to a given probability $p$, the dephasing probability.\n",
    "- **Depolarizing channel**: A more general type of noise in which $\\rho$ loses information due to interactions with the environment. This is represented as an evolution towards the completely mixed state $\\rho \\rightarrow \\frac{\\mathbb{I}}{2}$, effectively erasing the coherence in $\\rho$ with a probability $p$.\n",
    "- **Custom effective noise channel**: we can also include custom noise channels by providing the Lindblad operators and their coefficients.\n"
   ]
  },
  {
   "cell_type": "code",
   "execution_count": null,
   "id": "7e5993a2",
   "metadata": {},
   "outputs": [],
   "source": [
    "import numpy as np\n",
    "import matplotlib.pyplot as plt\n",
    "import qutip\n",
    "\n",
    "from pulser import Register, Pulse, Sequence\n",
    "from pulser_simulation import SimConfig, Simulation\n",
    "from pulser.devices import Chadoq2"
   ]
  },
  {
   "cell_type": "markdown",
   "id": "eef37b3c",
   "metadata": {},
   "source": [
    "## Single atom noisy simulations"
   ]
  },
  {
   "cell_type": "markdown",
   "id": "96388fa7",
   "metadata": {},
   "source": [
    "### Sequence preparation"
   ]
  },
  {
   "attachments": {},
   "cell_type": "markdown",
   "id": "c481c214",
   "metadata": {},
   "source": [
    "We prepare a single atom."
   ]
  },
  {
   "cell_type": "code",
   "execution_count": null,
   "id": "886039e1",
   "metadata": {},
   "outputs": [],
   "source": [
    "reg = Register.from_coordinates([(0, 0)], prefix=\"q\")"
   ]
  },
  {
   "cell_type": "markdown",
   "id": "3eb4dd23",
   "metadata": {},
   "source": [
    "We act on this atom with a Constant Pulse, such that it oscillates between the excited Rydberg state and back to the original state (Rabi oscillations):"
   ]
  },
  {
   "cell_type": "code",
   "execution_count": null,
   "id": "be8ec378",
   "metadata": {
    "scrolled": true
   },
   "outputs": [],
   "source": [
    "seq = Sequence(reg, Chadoq2)\n",
    "seq.declare_channel(\"ch0\", \"rydberg_global\")\n",
    "duration = 2500\n",
    "pulse = Pulse.ConstantPulse(duration, 2 * np.pi, 0.0, 0.0)\n",
    "seq.add(pulse, \"ch0\")\n",
    "seq.draw()"
   ]
  },
  {
   "attachments": {},
   "cell_type": "markdown",
   "id": "2c04ab95",
   "metadata": {},
   "source": [
    "In order to characterize simuation results, we designed a dedicated class, the `SimulationResults` class. It has two child classes, the `CoherentResults` for when the final state can be represented as a state vector or density matrix and `NoisyResults` when it can only be provided as a probability distribution of final states.\n",
    "\n",
    "In the following, we run a noiseless simulation to obtain a `CoherentResults` object in `clean_res`. This object allows to get useful information on the simulation parameters, the simulation results and more."
   ]
  },
  {
   "cell_type": "code",
   "execution_count": null,
   "id": "353a1825",
   "metadata": {},
   "outputs": [],
   "source": [
    "sim = Simulation(seq, sampling_rate=0.05)\n",
    "clean_res = sim.run()"
   ]
  },
  {
   "attachments": {},
   "cell_type": "markdown",
   "id": "96fd698e",
   "metadata": {},
   "source": [
    "We can for example plot the expectation values of an observable across time"
   ]
  },
  {
   "cell_type": "code",
   "execution_count": null,
   "id": "f24381a4",
   "metadata": {},
   "outputs": [],
   "source": [
    "# Define Rydberg state observable\n",
    "obs = qutip.basis(2, 0).proj()"
   ]
  },
  {
   "cell_type": "code",
   "execution_count": null,
   "id": "fbf2268e",
   "metadata": {},
   "outputs": [],
   "source": [
    "plt.figure(figsize=(4, 3))\n",
    "plt.plot(clean_res._sim_times, clean_res.expect([obs])[0])\n",
    "plt.xlabel(r\"Time ($\\mu s$)\")\n",
    "plt.ylabel(r\"Population in $|r\\rangle$\")\n",
    "plt.show()"
   ]
  },
  {
   "cell_type": "markdown",
   "id": "252d3c3f",
   "metadata": {},
   "source": [
    "### The SimConfig object"
   ]
  },
  {
   "attachments": {},
   "cell_type": "markdown",
   "id": "30619956",
   "metadata": {},
   "source": [
    "Each simulation has an associated `SimConfig` object, which encapsulates parameters such as noise types, the temperature of the register and so on. You can view it at any time using the `show_config()` method:"
   ]
  },
  {
   "cell_type": "code",
   "execution_count": null,
   "id": "3b4dcd58",
   "metadata": {},
   "outputs": [],
   "source": [
    "sim.show_config()"
   ]
  },
  {
   "attachments": {},
   "cell_type": "markdown",
   "id": "87368df2",
   "metadata": {},
   "source": [
    "When creating a new `SimConfig`, you can choose several parameters such as the number of runs and the number of delivered samples per run through the fields `'runs'` and `'samples_per_run'` respectively. The number of samples per run has no physical interpretation, this is used simply to cut down the calculation time by acquiring more shots without resampling the noise parameters."
   ]
  },
  {
   "attachments": {},
   "cell_type": "markdown",
   "id": "624221ca",
   "metadata": {},
   "source": [
    "### SPAM noise use case\n",
    "\n",
    "We will use as a toy example the `SPAM` noise and add it to our simulation in order to describe the different objects used for noisy simulations."
   ]
  },
  {
   "attachments": {},
   "cell_type": "markdown",
   "id": "226c4991",
   "metadata": {},
   "source": [
    "To do so, we can create a new `SimConfig` object and assign it to the `config` field of `sim` via the `Simulation.set_config` setter. We pass noise types as a tuple of strings to the `SimConfig` object created."
   ]
  },
  {
   "attachments": {},
   "cell_type": "markdown",
   "id": "e19c9306",
   "metadata": {},
   "source": [
    "You can list the different types of noises supported for each basis by calling `Simconfig.supported_noises` as follows:"
   ]
  },
  {
   "cell_type": "code",
   "execution_count": null,
   "id": "dcc99053",
   "metadata": {},
   "outputs": [],
   "source": [
    "sim.config.supported_noises"
   ]
  },
  {
   "attachments": {},
   "cell_type": "markdown",
   "id": "99ccc1b6",
   "metadata": {},
   "source": [
    "By default, all config classes are in the `ising` mode, allowing a wide range of noises. However, for some applications, we need to operate in the `XY` mode, where only the SPAM noise is available for the moment."
   ]
  },
  {
   "attachments": {},
   "cell_type": "markdown",
   "id": "2bf7fa69",
   "metadata": {},
   "source": [
    "Let's come back to our toy example. We add `\"SPAM\"` noise to our clean simulation, select 30 different realizations of the state taking each time 5 samples per run:"
   ]
  },
  {
   "cell_type": "code",
   "execution_count": null,
   "id": "10ddc4c2",
   "metadata": {},
   "outputs": [],
   "source": [
    "config_spam = SimConfig(noise=(\"SPAM\"), runs=30, samples_per_run=5)\n",
    "sim.set_config(config_spam)"
   ]
  },
  {
   "attachments": {},
   "cell_type": "markdown",
   "id": "bf4ad4df",
   "metadata": {},
   "source": [
    "The configuration is updated, the current parameters of the SPAM errors should be included:"
   ]
  },
  {
   "cell_type": "code",
   "execution_count": null,
   "id": "f751e8d2",
   "metadata": {},
   "outputs": [],
   "source": [
    "sim.show_config()"
   ]
  },
  {
   "attachments": {},
   "cell_type": "markdown",
   "id": "583d3cf2",
   "metadata": {},
   "source": [
    "The `SimConfig.spam_dict` is the spam parameters dictionary where `eta` is the probability of a badly prepared state, `epsilon` the false positive probability and `epsilon_prime` the false negative one."
   ]
  },
  {
   "attachments": {},
   "cell_type": "markdown",
   "id": "9d2605c9",
   "metadata": {},
   "source": [
    "When dealing with a `SimConfig` object with different noise parameters from the config in `Simulation.config`, you can \"add\" both configurations together, obtaining a single `SimConfig` with all noises from both configurations - on the other hand, the `runs` and `samples_per_run` will always be updated. This adds simulation parameters to noises that weren't available in the former `Simulation.config`. Noises specified in both `SimConfigs` will keep the noise parameters in `Simulation.config`. Try it out with `Simulation.add_config`:"
   ]
  },
  {
   "cell_type": "code",
   "execution_count": null,
   "id": "a384f477",
   "metadata": {},
   "outputs": [],
   "source": [
    "cfg2 = SimConfig(\n",
    "    noise=(\"SPAM\", \"dephasing\", \"doppler\"),\n",
    "    eta=0.8,\n",
    "    temperature=1000,\n",
    "    runs=50,\n",
    ")\n",
    "sim.add_config(cfg2)\n",
    "sim.show_config()"
   ]
  },
  {
   "attachments": {},
   "cell_type": "markdown",
   "id": "6eea4413",
   "metadata": {},
   "source": [
    "We can observe that the `eta` parameter wasn't changed, since both `SimConfig` objects had `'SPAM'` as a noise model already."
   ]
  },
  {
   "attachments": {},
   "cell_type": "markdown",
   "id": "5f7faddd",
   "metadata": {},
   "source": [
    "We created a noisy simulation using `set_config` and `add_config` methods of the the Simulation class. But it's not the only way, you can directly create a noisy simulation when you create your simulation object."
   ]
  },
  {
   "cell_type": "code",
   "execution_count": null,
   "id": "8f8ab855",
   "metadata": {},
   "outputs": [],
   "source": [
    "sim = Simulation(\n",
    "    seq,\n",
    "    sampling_rate=0.05,\n",
    "    config=SimConfig(\n",
    "        noise=(\"SPAM\", \"dephasing\", \"doppler\"),\n",
    "        temperature=1000,\n",
    "        runs=50,\n",
    "    ),\n",
    ")\n",
    "sim.show_config()"
   ]
  },
  {
   "cell_type": "markdown",
   "id": "84a6b82b",
   "metadata": {},
   "source": [
    "### Setting evaluation times"
   ]
  },
  {
   "attachments": {},
   "cell_type": "markdown",
   "id": "6e232047",
   "metadata": {},
   "source": [
    "As a `Simulation` field, `evaluation_times` refers to the times at which you sample during your simulation. You can assign it different types of values:\n",
    "\n",
    "* A float between 0 and 1: indicating the percentage of the full time array at which you want to sample.\n",
    "* The string `'Full'`: to use the full time array.\n",
    "* A time list: if there are specific periods of times at which you want to sample. Only, make sure the list you use is a subset of the hamiltonian sample time list."
   ]
  },
  {
   "cell_type": "code",
   "execution_count": null,
   "id": "e0865b57",
   "metadata": {},
   "outputs": [],
   "source": [
    "sim.evaluation_times = 0.5"
   ]
  },
  {
   "cell_type": "code",
   "execution_count": null,
   "id": "6a19d317",
   "metadata": {},
   "outputs": [],
   "source": [
    "noisy_res = sim.run()"
   ]
  },
  {
   "attachments": {},
   "cell_type": "markdown",
   "id": "0f4533e8",
   "metadata": {},
   "source": [
    "We get a `NoisyResults` object from our noisy simulation. This object represents the final result as a probability distribution over the sampled bitstrings, rather than a quantum state `QObj` in the `CleanResults` case."
   ]
  },
  {
   "cell_type": "markdown",
   "id": "28d72a1b",
   "metadata": {},
   "source": [
    "### Plotting noisy and clean results"
   ]
  },
  {
   "attachments": {},
   "cell_type": "markdown",
   "id": "e6016297",
   "metadata": {},
   "source": [
    "The new `res` instance has similar methods to the usual `SimResults` object. For example, we can calculate expectation values. "
   ]
  },
  {
   "attachments": {},
   "cell_type": "markdown",
   "id": "b6a8dafc",
   "metadata": {},
   "source": [
    "Below, the comparison between the clean and noise simulations."
   ]
  },
  {
   "cell_type": "code",
   "execution_count": null,
   "id": "c7185d36",
   "metadata": {},
   "outputs": [],
   "source": [
    "plt.figure(figsize=(4, 3))\n",
    "plt.plot(noisy_res._sim_times, noisy_res.expect([obs])[0], label=\"noisy\")\n",
    "plt.plot(clean_res._sim_times, clean_res.expect([obs])[0], label=\"clean\")\n",
    "plt.xlabel(r\"Time ($\\mu s$)\")\n",
    "plt.ylabel(r\"Population in $|r\\rangle$\")\n",
    "plt.legend(bbox_to_anchor=(1.05, 1), loc=\"upper left\", borderaxespad=0.0)\n",
    "plt.show()"
   ]
  },
  {
   "attachments": {},
   "cell_type": "markdown",
   "id": "f942851e",
   "metadata": {},
   "source": [
    "You can also use the `SimResults.plot(obs)` method to plot expectation values of a given observable. Here we compute the `sigma_z` local operator expectation values. Error bars are activated by default for noise simulations but if you don't want them you can set to False the field `error_bars`."
   ]
  },
  {
   "attachments": {},
   "cell_type": "markdown",
   "id": "cc0599d4",
   "metadata": {},
   "source": [
    "Be wary that computing the expectation value of non-diagonal operators will raise an error, as `NoisyResults` bitstrings are already projected on the $Z$ basis."
   ]
  },
  {
   "cell_type": "code",
   "execution_count": null,
   "id": "3b00cb57",
   "metadata": {
    "scrolled": true
   },
   "outputs": [],
   "source": [
    "obs = qutip.sigmaz()\n",
    "plt.figure(figsize=(4, 3))\n",
    "noisy_res.plot(obs, fmt=\".\")"
   ]
  },
  {
   "attachments": {},
   "cell_type": "markdown",
   "id": "d2cfd040",
   "metadata": {},
   "source": [
    "Now you have the basic knowledge to tackle noise simulations with pulser. In the following tutorials, we will see in details *Simulations with SPAM errors*, *Simulations with laser noises* and *Simulations with effective noises*. Enjoy!"
   ]
  }
 ],
 "metadata": {
  "kernelspec": {
   "display_name": "pulser",
   "language": "python",
   "name": "python3"
  },
  "language_info": {
   "codemirror_mode": {
    "name": "ipython",
    "version": 3
   },
   "file_extension": ".py",
   "mimetype": "text/x-python",
   "name": "python",
   "nbconvert_exporter": "python",
   "pygments_lexer": "ipython3",
   "version": "3.8.5"
  },
  "vscode": {
   "interpreter": {
    "hash": "f824b8e4e16905929cafe3ad0d7552efed47de1342d6ced4330871a22269e77f"
   }
  }
 },
 "nbformat": 4,
 "nbformat_minor": 5
}
