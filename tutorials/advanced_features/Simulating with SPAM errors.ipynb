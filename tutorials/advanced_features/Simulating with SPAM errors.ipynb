{
 "cells": [
  {
   "attachments": {},
   "cell_type": "markdown",
   "id": "37536181",
   "metadata": {},
   "source": [
    "# Simulations with SPAM errors"
   ]
  },
  {
   "attachments": {},
   "cell_type": "markdown",
   "id": "9ba435ba",
   "metadata": {},
   "source": [
    "## Introduction\n",
    "In the introductory tutorial `Simulating sequences with errors and noises`, we introduced SPAM errors and here we will go into more detail. We recommend you to check the introductory tutorial before going through this one.\n",
    "\n",
    "The State Preparation And Measurement(SPAM) errors encapsulate, as its name indicates, the errors that can occur during state preparation and measurements. They can be:\n",
    "* A state preparation error (with probability η for each atom), where an atom is not correctly pumped to the ground state at the beginning, making it effectively unavailable throughout the sequence.\n",
    "* Measurement errors which are linked to the incorrect identification of the atoms final state: during the imaging process, excited rydberg atoms in $\\Ket{r}$ might decay to the state $\\Ket{g}$, allowing them to be trapped in the tweezers producing false negatives with rate $\\epsilon'$. \n",
    "On the contrary, some atoms in the ground state $\\Ket{g}$ might be kicked out for various reasons (e.g. collisions with residual gas in the chamber) and tweezers recapture might fail, inferring them incorrectly as atoms in the excited state $\\Ket{r}$ - those are the false positives that happen with rate $\\epsilon$.\n"
   ]
  },
  {
   "cell_type": "code",
   "execution_count": null,
   "id": "1630ee86",
   "metadata": {},
   "outputs": [],
   "source": [
    "import numpy as np\n",
    "import matplotlib.pyplot as plt\n",
    "import qutip\n",
    "\n",
    "from pulser import Register, Pulse, Sequence\n",
    "from pulser_simulation import SimConfig, Simulation\n",
    "from pulser.devices import Chadoq2"
   ]
  },
  {
   "cell_type": "markdown",
   "id": "a6ecc923",
   "metadata": {},
   "source": [
    "## Single atom noisy simulations"
   ]
  },
  {
   "cell_type": "markdown",
   "id": "ac03ff95",
   "metadata": {},
   "source": [
    "### Sequence preparation"
   ]
  },
  {
   "attachments": {},
   "cell_type": "markdown",
   "id": "ce9aa86a",
   "metadata": {},
   "source": [
    "We prepare a single atom."
   ]
  },
  {
   "cell_type": "code",
   "execution_count": null,
   "id": "e4520427",
   "metadata": {},
   "outputs": [],
   "source": [
    "reg = Register.from_coordinates([(0, 0)], prefix=\"q\")"
   ]
  },
  {
   "attachments": {},
   "cell_type": "markdown",
   "id": "a6a62b20",
   "metadata": {},
   "source": [
    "We act on this atom with a Constant Pulse, such that it oscillates towards the excited rydberg state and back to the original state (Rabi oscillations):"
   ]
  },
  {
   "cell_type": "code",
   "execution_count": null,
   "id": "6cf7a022",
   "metadata": {
    "scrolled": true
   },
   "outputs": [],
   "source": [
    "seq = Sequence(reg, Chadoq2)\n",
    "seq.declare_channel(\"channel 0\", \"rydberg_global\")\n",
    "duration = 2500\n",
    "pulse = Pulse.ConstantPulse(duration, 2 * np.pi, 0.0, 0.0)\n",
    "seq.add(pulse, \"channel 0\")\n",
    "seq.draw()"
   ]
  },
  {
   "attachments": {},
   "cell_type": "markdown",
   "id": "f26b6726",
   "metadata": {},
   "source": [
    "We now create the simulation object and instantiate an observable which describes the excited state population."
   ]
  },
  {
   "cell_type": "code",
   "execution_count": null,
   "id": "6d8931b2",
   "metadata": {},
   "outputs": [],
   "source": [
    "sim = Simulation(seq, sampling_rate=0.05)\n",
    "obs = qutip.basis(2, 0).proj()"
   ]
  },
  {
   "cell_type": "markdown",
   "id": "f31f7aae",
   "metadata": {},
   "source": [
    "## SPAM effects"
   ]
  },
  {
   "attachments": {},
   "cell_type": "markdown",
   "id": "f46afbf4",
   "metadata": {},
   "source": [
    "In this part we compare both clean and noisy simulations for the default SPAM parameters (taken from [De Léséleuc, et al., 2018](https://arxiv.org/abs/1802.10424))"
   ]
  },
  {
   "cell_type": "code",
   "execution_count": null,
   "id": "f032d1a5",
   "metadata": {
    "scrolled": true
   },
   "outputs": [],
   "source": [
    "# SPAM configuration\n",
    "config_spam = SimConfig(noise=(\"SPAM\"), runs=30, samples_per_run=5)\n",
    "\n",
    "# Integration of the SPAM noise configuration to the simulation\n",
    "sim.set_config(config_spam)\n",
    "sim.show_config()\n",
    "\n",
    "# Simulation storing 40% of the results:\n",
    "sim.evaluation_times = 0.4\n",
    "res_spam = sim.run()"
   ]
  },
  {
   "cell_type": "code",
   "execution_count": null,
   "id": "cf36c765",
   "metadata": {},
   "outputs": [],
   "source": [
    "res_spam.plot(obs, label=\"With SPAM errors\")\n",
    "\n",
    "# Clean simulation:\n",
    "sim.reset_config()\n",
    "res_clean = sim.run()\n",
    "res_clean.plot(obs, label=\"Clean simulation\")\n",
    "plt.legend(bbox_to_anchor=(1.05, 1), loc=\"upper left\", borderaxespad=0.0)\n",
    "plt.ylabel(\"Excited state population\")\n",
    "plt.show()"
   ]
  },
  {
   "attachments": {},
   "cell_type": "markdown",
   "id": "0c2e8cd5",
   "metadata": {},
   "source": [
    "Let's modify the *SPAM* dictionary allowing more badly prepared atoms ($40$%)."
   ]
  },
  {
   "cell_type": "code",
   "execution_count": null,
   "id": "ed97a033",
   "metadata": {},
   "outputs": [],
   "source": [
    "config_spam_mod = SimConfig(noise=(\"SPAM\"), eta=0.4, runs=100)\n",
    "sim.set_config(config_spam_mod)\n",
    "sim.evaluation_times = 0.5\n",
    "res_large_eta = sim.run()\n",
    "\n",
    "plt.figure()\n",
    "plt.ylim(0, 1)\n",
    "plt.axhline(\n",
    "    1 - config_spam_mod.eta, color=\"black\", linestyle=\"--\", label=r\"1 - $\\eta$\"\n",
    ")\n",
    "res_large_eta.plot(obs, label=\"With SPAM errors\")\n",
    "res_clean.plot(obs, label=\"Clean simulation\")\n",
    "plt.legend(bbox_to_anchor=(1.05, 1), loc=\"upper left\", borderaxespad=0.0)\n",
    "plt.ylabel(\"Excited state population\")\n",
    "plt.show()"
   ]
  },
  {
   "attachments": {},
   "cell_type": "markdown",
   "id": "e952f4ad",
   "metadata": {},
   "source": [
    "We can observe here that the population doesn't go above $0.6 = 1 - \\eta$, which is to be expected: badly prepared atoms are not used at all in the simulations. The more runs we will use, the closer the maximum population will reach $0.6$."
   ]
  },
  {
   "attachments": {},
   "cell_type": "markdown",
   "id": "374c5fe1",
   "metadata": {},
   "source": [
    "## Changing $\\eta$"
   ]
  },
  {
   "attachments": {},
   "cell_type": "markdown",
   "id": "4cbc9024",
   "metadata": {},
   "source": [
    "First, we initialize all spam errors values to $0$. Then, we do a sweep over the parameter $\\eta$ to see how it modifies the simualtion results."
   ]
  },
  {
   "cell_type": "code",
   "execution_count": null,
   "id": "24334241",
   "metadata": {},
   "outputs": [],
   "source": [
    "res_clean.plot(obs)\n",
    "for eta in np.linspace(0, 0.99, 4):\n",
    "    config_spam_eta = SimConfig(\n",
    "        noise=\"SPAM\", eta=eta, runs=50, epsilon=0, epsilon_prime=0\n",
    "    )\n",
    "    sim.set_config(config_spam_eta)\n",
    "    sim.run().plot(obs, label=rf\"$\\eta$ = {eta}\")\n",
    "plt.legend(bbox_to_anchor=(1.01, 1), loc=\"upper left\", borderaxespad=0.0)\n",
    "plt.ylabel(\"Excited state population\")\n",
    "plt.show()"
   ]
  },
  {
   "attachments": {},
   "cell_type": "markdown",
   "id": "a37a5eb5",
   "metadata": {},
   "source": [
    "As $\\eta$ grows, more qubits are badly-prepared (i.e, pumped into a state different from $\\Ket{g}$) and we stop seeing occupations at all. You can increase the number of runs to smooth the curves."
   ]
  },
  {
   "attachments": {},
   "cell_type": "markdown",
   "id": "63713b71",
   "metadata": {},
   "source": [
    "### Changing $\\epsilon$ and $\\epsilon'$"
   ]
  },
  {
   "attachments": {},
   "cell_type": "markdown",
   "id": "2974b179",
   "metadata": {},
   "source": [
    "Let's now compare sweeps over $\\epsilon$ and $\\epsilon'$ side by side:"
   ]
  },
  {
   "cell_type": "code",
   "execution_count": null,
   "id": "4011dedb",
   "metadata": {},
   "outputs": [],
   "source": [
    "res_clean.plot(obs, label=\"Clean simulation\")\n",
    "for eps in np.linspace(0, 0.99, 4):\n",
    "    config_spam_eps = SimConfig(\n",
    "        noise=\"SPAM\", eta=1e-8, runs=50, epsilon=eps, epsilon_prime=0\n",
    "    )\n",
    "    sim.set_config(config_spam_eps)\n",
    "    sim.run().plot(obs, label=rf\"$\\epsilon$ = {eps}\")\n",
    "plt.legend(bbox_to_anchor=(1.01, 1), loc=\"upper left\", borderaxespad=0.0)\n",
    "plt.ylabel(\"Excited state population\")\n",
    "plt.show()"
   ]
  },
  {
   "attachments": {},
   "cell_type": "markdown",
   "id": "3a566d2a",
   "metadata": {},
   "source": [
    "When we increase the proportion of false positives, the percentage of atoms in the excited state increases as expected. Note that when $\\eta=0$, the results object we obtain is a `CoherentResults` rather than a `NoisyResults` since the randomness comes from state preparation alone."
   ]
  },
  {
   "attachments": {},
   "cell_type": "markdown",
   "id": "641262ba",
   "metadata": {},
   "source": [
    "Finally, we sweep over the $\\epsilon '$ values:"
   ]
  },
  {
   "cell_type": "code",
   "execution_count": null,
   "id": "2adb2392",
   "metadata": {},
   "outputs": [],
   "source": [
    "res_clean.plot(obs, label=\"Clean simulation\")\n",
    "for eps_p in np.linspace(0, 0.99, 4):\n",
    "    config_spam_eps_p = SimConfig(\n",
    "        noise=\"SPAM\", eta=1e-8, runs=50, epsilon=0, epsilon_prime=eps_p\n",
    "    )\n",
    "    sim.set_config(config_spam_eps_p)\n",
    "    sim.run().plot(obs, label=rf\"$\\epsilon$' = {eps_p}\")\n",
    "plt.legend(bbox_to_anchor=(1.05, 1), loc=\"upper left\", borderaxespad=0.0)\n",
    "plt.ylabel(\"Excited state population\")\n",
    "plt.show()"
   ]
  },
  {
   "attachments": {},
   "cell_type": "markdown",
   "id": "fbec0060",
   "metadata": {},
   "source": [
    "Opposing the previous case, when the number of false negatives increases, the system behaves as if all atoms are in the ground state leading to a zero population in the excited state."
   ]
  }
 ],
 "metadata": {
  "kernelspec": {
   "display_name": "pulser",
   "language": "python",
   "name": "python3"
  },
  "language_info": {
   "codemirror_mode": {
    "name": "ipython",
    "version": 3
   },
   "file_extension": ".py",
   "mimetype": "text/x-python",
   "name": "python",
   "nbconvert_exporter": "python",
   "pygments_lexer": "ipython3",
   "version": "3.8.5"
  },
  "vscode": {
   "interpreter": {
    "hash": "f824b8e4e16905929cafe3ad0d7552efed47de1342d6ced4330871a22269e77f"
   }
  }
 },
 "nbformat": 4,
 "nbformat_minor": 5
}
